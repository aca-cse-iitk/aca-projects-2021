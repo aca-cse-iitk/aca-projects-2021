{
  "nbformat": 4,
  "nbformat_minor": 0,
  "metadata": {
    "colab": {
      "name": "Assignment_2_Team_5.ipynb",
      "provenance": [],
      "collapsed_sections": [],
      "include_colab_link": true
    },
    "kernelspec": {
      "name": "python3",
      "display_name": "Python 3"
    },
    "language_info": {
      "name": "python"
    }
  },
  "cells": [
    {
      "cell_type": "markdown",
      "metadata": {
        "id": "view-in-github",
        "colab_type": "text"
      },
      "source": [
        "<a href=\"https://colab.research.google.com/github/parinayc20/ACA-Wikipedia-Simplifier/blob/main/Assignment_1_and_2/Assignment_2_Team_5.ipynb\" target=\"_parent\"><img src=\"https://colab.research.google.com/assets/colab-badge.svg\" alt=\"Open In Colab\"/></a>"
      ]
    },
    {
      "cell_type": "code",
      "metadata": {
        "id": "FnOMU764epk1",
        "colab": {
          "base_uri": "https://localhost:8080/"
        },
        "outputId": "4f90409a-ff40-49d8-ff9f-8b4d11c1ee96"
      },
      "source": [
        "import random\n",
        "import string\n",
        "!wget https://ocw.mit.edu/courses/electrical-engineering-and-computer-science/6-0001-introduction-to-computer-science-and-programming-in-python-fall-2016/assignments/ps2.zip\n",
        "!mkdir file_destination\n",
        "!unzip ps2.zip -d file_destination"
      ],
      "execution_count": null,
      "outputs": [
        {
          "output_type": "stream",
          "text": [
            "--2021-04-17 17:47:54--  https://ocw.mit.edu/courses/electrical-engineering-and-computer-science/6-0001-introduction-to-computer-science-and-programming-in-python-fall-2016/assignments/ps2.zip\n",
            "Resolving ocw.mit.edu (ocw.mit.edu)... 151.101.2.133, 151.101.66.133, 151.101.130.133, ...\n",
            "Connecting to ocw.mit.edu (ocw.mit.edu)|151.101.2.133|:443... connected.\n",
            "HTTP request sent, awaiting response... 200 OK\n",
            "Length: 458195 (447K) [application/zip]\n",
            "Saving to: ‘ps2.zip.3’\n",
            "\n",
            "ps2.zip.3           100%[===================>] 447.46K  --.-KB/s    in 0.04s   \n",
            "\n",
            "2021-04-17 17:47:55 (10.2 MB/s) - ‘ps2.zip.3’ saved [458195/458195]\n",
            "\n",
            "Archive:  ps2.zip\n",
            "  inflating: file_destination/ps2/hangman.py  \n",
            "  inflating: file_destination/ps2/MIT6_0001F16_Pset2.pdf  \n",
            "  inflating: file_destination/ps2/words.txt  \n"
          ],
          "name": "stdout"
        }
      ]
    },
    {
      "cell_type": "code",
      "metadata": {
        "id": "FkG_RD33nSYU"
      },
      "source": [
        "\n",
        "def load_words():\n",
        "    print(\"Loading word list from file...\")\n",
        "    # inFile: file\n",
        "    inFile = open(\"/content/file_destination/ps2/words.txt\", 'r')\n",
        "    # line: string\n",
        "    line = inFile.readline()\n",
        "    # wordlist: list of strings\n",
        "    wordlist = line.split()\n",
        "    print(\"  \", len(wordlist), \"words loaded.\")\n",
        "    return wordlist\n",
        "\n"
      ],
      "execution_count": null,
      "outputs": []
    },
    {
      "cell_type": "code",
      "metadata": {
        "id": "Z_Amtqdae3yS"
      },
      "source": [
        "def choose_word(wordlist):\n",
        "    return random.choice(wordlist)"
      ],
      "execution_count": null,
      "outputs": []
    },
    {
      "cell_type": "code",
      "metadata": {
        "id": "E0eCjYCle84B"
      },
      "source": [
        "def is_word_guessed(secret_word, letters_guessed):\n",
        "    for letter in secret_word:\n",
        "        if letter in letters_guessed:\n",
        "            pass\n",
        "        else:\n",
        "            return False\n",
        "    return True"
      ],
      "execution_count": null,
      "outputs": []
    },
    {
      "cell_type": "code",
      "metadata": {
        "id": "QmzIJbcHfAK5"
      },
      "source": [
        "def get_guessed_word(secret_word, letters_guessed):\n",
        "    string=''\n",
        "    for x in secret_word:\n",
        "        if x in letters_guessed:\n",
        "            string=string+x\n",
        "        else:\n",
        "            string=string+'_ '\n",
        "    return string"
      ],
      "execution_count": null,
      "outputs": []
    },
    {
      "cell_type": "code",
      "metadata": {
        "id": "71Lf9CFcfD5V"
      },
      "source": [
        "def get_availible_letters(letters_guessed):\n",
        "    mum='abcdefghijklmnopqrstuvwxyz'\n",
        "    str=''\n",
        "    for c in mum:\n",
        "        if c in letters_guessed:\n",
        "            pass\n",
        "        else:\n",
        "            str=str+c\n",
        "    return str"
      ],
      "execution_count": null,
      "outputs": []
    },
    {
      "cell_type": "code",
      "metadata": {
        "id": "8RtPjLBzfHmh"
      },
      "source": [
        "def hangman(secret_word):\n",
        "    # FILL IN YOUR CODE HERE AND DELETE \"pass\"\n",
        "    print(\"Welcome to the game Hangman!\")\n",
        "    print(\"I am thinking of a word that is \"+str(len(secret_word))+ \" letters long.\")\n",
        "    print(\"You have 3 warnings left.\")\n",
        "    print(\"-------------\")\n",
        "    mum='abcdefghijklmnopqrstuvwxyz'\n",
        "    warning=3\n",
        "    guesses=6\n",
        "    letters_guessed=[]\n",
        "    vowel=\"aeiou\"\n",
        "    count=0\n",
        "    while guesses>0:\n",
        "        print(\"You have \"+str(guesses)+\" guesses left.\")\n",
        "        print(\"Availible letters:\",end=\" \")\n",
        "        y=get_availible_letters(letters_guessed)\n",
        "        print(y)\n",
        "        print(\"Please guess a letter: \",end=\" \")\n",
        "        char=input()\n",
        "        if char not in mum:\n",
        "            warning-=1\n",
        "            if warning<-1:\n",
        "              warning=-1\n",
        "            if warning>=0:\n",
        "              print(\"Oops! That is not a valid letter. You have \"+str(warning)+ \" warnings left: \"+str(get_guessed_word(secret_word,letters_guessed)))\n",
        "            else:\n",
        "              print(\"Oops! That is not a valid letter. You have no warnings left so you lose one guess:\"+str(get_guessed_word(secret_word,letters_guessed)))\n",
        "              guesses-=1\n",
        "        elif (char in secret_word) and (char not in letters_guessed):\n",
        "            letters_guessed.append(char)\n",
        "            count+=1\n",
        "            print(\"Good guess: \"+get_guessed_word(secret_word,letters_guessed))\n",
        "        elif (char in letters_guessed):\n",
        "            warning-=1\n",
        "            if warning<-1:\n",
        "              warning=-1\n",
        "            if warning>=0:\n",
        "              print(\"Oops! You've already guessed that letter. You have \"+str(warning)+ \" warnings left: \"+str(get_guessed_word(secret_word,letters_guessed)))\n",
        "            else:\n",
        "              print(\"Oops! You've already guessed that letter. You have no warnings left so you lose one guess:\"+str(get_guessed_word(secret_word,letters_guessed)))\n",
        "              guesses-=1\n",
        "        else:\n",
        "            letters_guessed.append(char)\n",
        "            print(\"Oops! That letter is not in my word: \"+str(get_guessed_word(secret_word,letters_guessed)))\n",
        "            if char in vowel:\n",
        "              guesses-=2\n",
        "            else:\n",
        "              guesses-=1\n",
        "        print(\"-------------\")\n",
        "        if (get_guessed_word(secret_word,letters_guessed).strip() == secret_word.strip()):\n",
        "              break\n",
        "    if guesses<=0:\n",
        "      print(\"Sorry, you ran out of guesses. The word was \"+secret_word)\n",
        "    else:\n",
        "      print(\"Congratulations, you won!\");\n",
        "      print(\"Your total score for this game is: \"+str(guesses*count))"
      ],
      "execution_count": null,
      "outputs": []
    },
    {
      "cell_type": "code",
      "metadata": {
        "id": "DBtWAqU-kVa1"
      },
      "source": [
        "def match_with_gaps(my_word,other_word):\n",
        "  my_word=my_word.replace(\" \",\"\")\n",
        "  other_word=other_word.replace(\" \",\"\")\n",
        "  # print(my_word)\n",
        "  # print(other_word)\n",
        "  if(len(my_word)!=len(other_word)):\n",
        "    return False\n",
        "  for i in range(0,len(my_word)):\n",
        "    if((my_word[i]!='_') and (my_word[i]!=other_word[i])):\n",
        "      return False\n",
        "    if((my_word[i]=='_') and (other_word[i] in my_word)):\n",
        "      return False\n",
        "  return True\n",
        "\n",
        "# print(match_with_gaps(\"a _ _ o e\",\"apple\"))"
      ],
      "execution_count": null,
      "outputs": []
    },
    {
      "cell_type": "code",
      "metadata": {
        "id": "1HHZlA_TkVnf"
      },
      "source": [
        "def show_possible_matches(my_word):\n",
        "  count=0\n",
        "  for word in wordlist:\n",
        "    if(match_with_gaps(my_word,word)):\n",
        "      print(word,end=\" \")\n",
        "      count=1\n",
        "  if(count==0):\n",
        "    print(\"No matches found\",end=\" \")\n",
        "  print()"
      ],
      "execution_count": null,
      "outputs": []
    },
    {
      "cell_type": "code",
      "metadata": {
        "id": "mBXKcBc0XdC8"
      },
      "source": [
        "def hangman_with_hints(secret_word):\n",
        "    # FILL IN YOUR CODE HERE AND DELETE \"pass\"\n",
        "    print(\"Welcome to the game Hangman!\")\n",
        "    print(\"I am thinking of a word that is \"+str(len(secret_word))+ \" letters long.\")\n",
        "    print(\"You have 3 warnings left.\")\n",
        "    print(\"-------------\")\n",
        "    mum='abcdefghijklmnopqrstuvwxyz'\n",
        "    warning=3\n",
        "    guesses=6\n",
        "    letters_guessed=[]\n",
        "    vowel=\"aeiou\"\n",
        "    count=0\n",
        "    while guesses>0:\n",
        "        print(\"You have \"+str(guesses)+\" guesses left.\")\n",
        "        print(\"Availible letters:\",end=\" \")\n",
        "        y=get_availible_letters(letters_guessed)\n",
        "        print(y)\n",
        "        print(\"Please guess a letter: \",end=\" \")\n",
        "        char=input()\n",
        "        if char=='*':\n",
        "            print(\"Possible matches are:\")\n",
        "            show_possible_matches(get_guessed_word(secret_word,letters_guessed))\n",
        "        elif char not in mum:\n",
        "            warning-=1\n",
        "            if warning<-1:\n",
        "              warning=-1\n",
        "            if warning>=0:\n",
        "              print(\"Oops! That is not a valid letter. You have \"+str(warning)+ \" warnings left: \"+str(get_guessed_word(secret_word,letters_guessed)))\n",
        "            else:\n",
        "              print(\"Oops! That is not a valid letter. You have no warnings left so you lose one guess:\"+str(get_guessed_word(secret_word,letters_guessed)))\n",
        "              guesses-=1\n",
        "        elif (char in secret_word) and (char not in letters_guessed):\n",
        "            letters_guessed.append(char)\n",
        "            count+=1\n",
        "            print(\"Good guess: \"+get_guessed_word(secret_word,letters_guessed))\n",
        "        elif (char in letters_guessed):\n",
        "            warning-=1\n",
        "            if warning<-1:\n",
        "              warning=-1\n",
        "            if warning>=0:\n",
        "              print(\"Oops! You've already guessed that letter. You have \"+str(warning)+ \" warnings left: \"+str(get_guessed_word(secret_word,letters_guessed)))\n",
        "            else:\n",
        "              print(\"Oops! You've already guessed that letter. You have no warnings left so you lose one guess:\"+str(get_guessed_word(secret_word,letters_guessed)))\n",
        "              guesses-=1\n",
        "        else:\n",
        "            letters_guessed.append(char)\n",
        "            print(\"Oops! That letter is not in my word: \"+str(get_guessed_word(secret_word,letters_guessed)))\n",
        "            if char in vowel:\n",
        "              guesses-=2\n",
        "            else:\n",
        "              guesses-=1\n",
        "        print(\"-------------\")\n",
        "        if (get_guessed_word(secret_word,letters_guessed).strip() == secret_word.strip()):\n",
        "              break\n",
        "    if guesses<=0:\n",
        "      print(\"Sorry, you ran out of guesses. The word was \"+secret_word)\n",
        "    else:\n",
        "      print(\"Congratulations, you won!\");\n",
        "      print(\"Your total score for this game is: \"+str(guesses*count))"
      ],
      "execution_count": null,
      "outputs": []
    },
    {
      "cell_type": "code",
      "metadata": {
        "id": "VcmxBMh4Xk5J",
        "colab": {
          "base_uri": "https://localhost:8080/"
        },
        "outputId": "97bc7610-815f-427e-fdf2-236cbe8086d8"
      },
      "source": [
        "wordlist = load_words()\n",
        "secret_word = choose_word(wordlist)\n",
        "hangman_with_hints(secret_word)"
      ],
      "execution_count": null,
      "outputs": [
        {
          "output_type": "stream",
          "text": [
            "Loading word list from file...\n",
            "   55900 words loaded.\n",
            "Welcome to the game Hangman!\n",
            "I am thinking of a word that is 9 letters long.\n",
            "You have 3 warnings left.\n",
            "-------------\n",
            "You have 6 guesses left.\n",
            "Availible letters: abcdefghijklmnopqrstuvwxyz\n",
            "Please guess a letter:  a\n",
            "Good guess: a_ _ _ a_ _ _ _ \n",
            "-------------\n",
            "You have 6 guesses left.\n",
            "Availible letters: bcdefghijklmnopqrstuvwxyz\n",
            "Please guess a letter:  *\n",
            "Possible matches are:\n",
            "abeyances abidances abstained acclaimed acquaints actuality actualize actuaries actuating actuation actuators adoration adulating adulation adulators adulatory aerialist affiances affianced afflation ageratums agitating agitation agitators airmailed alliances alphabets ambiances amorality animation animalism animating animators annealing anomalies anomalous anteaters appealing appearing appeasing appeasers applauded appraised appraiser appraises archaisms archangel aromatics assuaging astraddle atonality attracted averaging avocation awkwarder awkwardly \n",
            "-------------\n",
            "You have 6 guesses left.\n",
            "Availible letters: bcdefghijklmnopqrstuvwxyz\n",
            "Please guess a letter:  f\n",
            "Oops! That letter is not in my word: a_ _ _ a_ _ _ _ \n",
            "-------------\n",
            "You have 5 guesses left.\n",
            "Availible letters: bcdeghijklmnopqrstuvwxyz\n",
            "Please guess a letter:  g\n",
            "Oops! That letter is not in my word: a_ _ _ a_ _ _ _ \n",
            "-------------\n",
            "You have 4 guesses left.\n",
            "Availible letters: bcdehijklmnopqrstuvwxyz\n",
            "Please guess a letter:  h\n",
            "Oops! That letter is not in my word: a_ _ _ a_ _ _ _ \n",
            "-------------\n",
            "You have 3 guesses left.\n",
            "Availible letters: bcdeijklmnopqrstuvwxyz\n",
            "Please guess a letter:  i\n",
            "Good guess: a_ i_ a_ _ _ _ \n",
            "-------------\n",
            "You have 3 guesses left.\n",
            "Availible letters: bcdejklmnopqrstuvwxyz\n",
            "Please guess a letter:  j\n",
            "Oops! That letter is not in my word: a_ i_ a_ _ _ _ \n",
            "-------------\n",
            "You have 2 guesses left.\n",
            "Availible letters: bcdeklmnopqrstuvwxyz\n",
            "Please guess a letter:  k\n",
            "Oops! That letter is not in my word: a_ i_ a_ _ _ _ \n",
            "-------------\n",
            "You have 1 guesses left.\n",
            "Availible letters: bcdelmnopqrstuvwxyz\n",
            "Please guess a letter:  l\n",
            "Oops! That letter is not in my word: a_ i_ a_ _ _ _ \n",
            "-------------\n",
            "Sorry, you ran out of guesses. The word was animators\n"
          ],
          "name": "stdout"
        }
      ]
    }
  ]
}