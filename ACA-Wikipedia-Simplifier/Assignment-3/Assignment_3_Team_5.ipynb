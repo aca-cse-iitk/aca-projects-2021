{
  "nbformat": 4,
  "nbformat_minor": 0,
  "metadata": {
    "colab": {
      "name": "Assignment-3_Team-5.ipynb",
      "provenance": [],
      "collapsed_sections": [],
      "include_colab_link": true
    },
    "kernelspec": {
      "name": "python3",
      "display_name": "Python 3"
    },
    "language_info": {
      "name": "python"
    }
  },
  "cells": [
    {
      "cell_type": "markdown",
      "metadata": {
        "id": "view-in-github",
        "colab_type": "text"
      },
      "source": [
        "<a href=\"https://colab.research.google.com/github/parinayc20/ACA-Wikipedia-Simplifier/blob/main/Assignment-3/Assignment_3_Team_5.ipynb\" target=\"_parent\"><img src=\"https://colab.research.google.com/assets/colab-badge.svg\" alt=\"Open In Colab\"/></a>"
      ]
    },
    {
      "cell_type": "code",
      "metadata": {
        "id": "X2CQg6VH856T",
        "colab": {
          "base_uri": "https://localhost:8080/"
        },
        "outputId": "843ae1bf-2d27-4eba-a68e-46e6535d2e17"
      },
      "source": [
        "import numpy as np\n",
        "import random\n",
        "rate=0.1\n",
        "def relu(x):\n",
        "    return x * (x > 0)\n",
        "\n",
        "def drelu(x):\n",
        "    return 1. * (x > 0)\n",
        "\n",
        "def sigmoid(A):\n",
        "    A=1/np.float128((1+np.exp(-A)))\n",
        "    return A\n",
        "\n",
        "Wset=[0]\n",
        "Bset=[0]\n",
        "layers=20                                        #####change the layers here\n",
        "nodes=20                                         #####change the nodes here\n",
        "Wset.append(np.random.rand(nodes,2)*0.1)\n",
        "Bset.append(np.random.rand(nodes,1)*0.1)\n",
        "for i in range(layers-2):\n",
        "  Wset.append(np.random.rand(nodes,nodes)*0.1)\n",
        "  Bset.append(np.random.rand(nodes,1)*0.1)\n",
        "Wset.append(np.random.rand(1,nodes)*0.1)\n",
        "Bset.append(np.random.rand(1,1)*0.1)\n",
        "X=np.array([[0,0,1,1],[0,1,0,1]],dtype=np.float128)\n",
        "A=[0]*(layers+1)\n",
        "A[0]=X\n",
        "Y=np.array([[0,0,0,1]],dtype=np.float128)\n",
        "Zset=[0]*(layers+1)\n",
        "dZ=[0]*(layers+1)\n",
        "for i in range(0,1000000):\n",
        "  #Forward\n",
        "  # print(i)\n",
        "  for j in range(1,layers+1):\n",
        "    Zset[j]=np.dot(Wset[j],A[j-1])+Bset[j]\n",
        "    if j==layers:\n",
        "      A[j]=sigmoid(Zset[j])\n",
        "    else:\n",
        "      A[j]=relu(Zset[j])\n",
        "  # print(A[layers-1])\n",
        "  #Backward\n",
        "  for j in range(layers-1,-1,-1):\n",
        "    if j==(layers-1):\n",
        "      dZ[layers]=A[layers]-Y\n",
        "    #print(dZ[3])\n",
        "    dW=(np.dot(dZ[j+1],A[j].T))/4\n",
        "    dB=(np.sum(dZ[j+1],axis=1,keepdims=True))/4\n",
        "    Wset[j+1]=Wset[j+1]-rate*dW\n",
        "    Bset[j+1]=Bset[j+1]-rate*dB\n",
        "    dZ[j]=np.multiply(np.dot(Wset[j+1].T,dZ[j+1]),drelu(Zset[j]))\n",
        "# print(\"hello\")\n",
        "V=X\n",
        "for i in range(1,layers):\n",
        "  V=np.dot(Wset[i],V)+Bset[i]\n",
        "  V=relu(V)\n",
        "V=np.dot(Wset[layers],V)+Bset[layers]\n",
        "V=sigmoid(V)\n",
        "print(V)"
      ],
      "execution_count": 31,
      "outputs": [
        {
          "output_type": "stream",
          "text": [
            "[[3.82910398e-22 3.55526951e-09 3.34088652e-09 9.99998750e-01]]\n"
          ],
          "name": "stdout"
        }
      ]
    }
  ]
}