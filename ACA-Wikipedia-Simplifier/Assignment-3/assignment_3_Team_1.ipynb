{
  "nbformat": 4,
  "nbformat_minor": 0,
  "metadata": {
    "colab": {
      "name": "assignment-3_Team-1.ipynb",
      "provenance": [],
      "include_colab_link": true
    },
    "kernelspec": {
      "name": "python3",
      "display_name": "Python 3"
    },
    "language_info": {
      "name": "python"
    }
  },
  "cells": [
    {
      "cell_type": "markdown",
      "metadata": {
        "id": "view-in-github",
        "colab_type": "text"
      },
      "source": [
        "<a href=\"https://colab.research.google.com/github/code-vaibhav/ACA-Wikipedia-Simplifier/blob/main/Assignment-3/assignment_3_Team_1.ipynb\" target=\"_parent\"><img src=\"https://colab.research.google.com/assets/colab-badge.svg\" alt=\"Open In Colab\"/></a>"
      ]
    },
    {
      "cell_type": "code",
      "metadata": {
        "id": "6czqRVjVk9bv"
      },
      "source": [
        "import numpy as np\n",
        "import matplotlib.pyplot as plt"
      ],
      "execution_count": 2,
      "outputs": []
    },
    {
      "cell_type": "code",
      "metadata": {
        "id": "_3_UMn3tsLpG"
      },
      "source": [
        "def sigmoid(Z):\n",
        "  return 1/(1+np.exp(-Z))\n",
        " \n",
        " \n",
        "def initialize_parameters(n_x, n_h, n_y):\n",
        "  W1 = np.random.randn(n_h, n_x)*0.01\n",
        "  b1 = np.zeros((n_h, 1))\n",
        "  W2 = np.random.randn(n_y, n_h)*0.01\n",
        "  b2 = np.zeros((n_y, 1))\n",
        " \n",
        "  parameters = {\n",
        "      'W1': W1,\n",
        "      'b1': b1,\n",
        "      'W2': W2,\n",
        "      'b2': b2\n",
        "  }\n",
        "  return parameters\n",
        " \n",
        " \n",
        "def forward_prop(X, parameters):\n",
        "  W1 = parameters['W1']\n",
        "  W2 = parameters['W2']\n",
        "  b1 = parameters['b1']\n",
        "  b2 = parameters['b2']\n",
        " \n",
        "  Z1 = np.dot(W1, X) + b1\n",
        "  A1 = np.tanh(Z1)\n",
        "  Z2 = np.dot(W2, A1) + b2\n",
        "  A2 = sigmoid(Z2)\n",
        " \n",
        "  # assert(A2.shape == (1, X.shape[1]))\n",
        " \n",
        "  cache = {\n",
        "      'Z1': Z1,\n",
        "      'A1': A1,\n",
        "      'Z2': Z2,\n",
        "      'A2': A2\n",
        "  }\n",
        "  return A2, cache\n",
        " \n",
        " \n",
        "def compute_cost(A2, Y):\n",
        "  m = Y.shape[1]\n",
        " \n",
        "  cost = -np.sum(np.multiply(Y, np.log(A2)) + np.multiply(1-Y, np.log(1-A2))) / m\n",
        "  cost = float(np.squeeze(cost))\n",
        "  return cost\n",
        " \n",
        " \n",
        "def back_prop(cache, parameters, X, Y):\n",
        "  A1 = cache['A1']\n",
        "  A2 = cache['A2']\n",
        "  W2 = parameters['W2']\n",
        " \n",
        "  m = X.shape[1]\n",
        " \n",
        "  dZ2 = A2 - Y\n",
        "  dW2 = np.dot(dZ2, A1.T) / m\n",
        "  db2 = np.sum(dZ2, axis=1, keepdims = True) / m\n",
        "  dZ1 = np.multiply(np.dot(W2.T, dZ2), 1-np.power(A1, 2))\n",
        "  dW1 = np.dot(dZ1, X.T) / m\n",
        "  db1 = np.sum(dZ1, axis=1, keepdims=True) / m\n",
        " \n",
        "  grads = {\n",
        "      'dW1': dW1,\n",
        "      'db1': db1,\n",
        "      'dW2': dW2,\n",
        "      'db2': db2\n",
        "  }\n",
        "  return grads\n",
        " \n",
        " \n",
        "def update_parameters(parameters, grads, learning_rate = 1.2):\n",
        "  W1 = parameters['W1']\n",
        "  W2 = parameters['W2']\n",
        "  b1 = parameters['b1']\n",
        "  b2 = parameters['b2']\n",
        " \n",
        "  dW1 = grads['dW1']\n",
        "  dW2 = grads['dW2']\n",
        "  db1 = grads['db1']\n",
        "  db2 = grads['db2']\n",
        " \n",
        "  W1 = W1 - learning_rate * dW1\n",
        "  W2 = W2 - learning_rate * dW2\n",
        "  b1 = b1 - learning_rate * db1\n",
        "  b2 = b2 - learning_rate * db2\n",
        " \n",
        "  new_parameters = {\n",
        "      'W1': W1,\n",
        "      'b1': b1,\n",
        "      'W2': W2,\n",
        "      'b2': b2\n",
        "  }\n",
        "  return new_parameters\n",
        " \n",
        " \n",
        "def nn_model(X, Y, num_iterations = 10000, print_cost=True):\n",
        "  np.random.seed(3)\n",
        " \n",
        "  n_x, n_h, n_y = X.shape[0], 4, Y.shape[0];\n",
        "  parameters = initialize_parameters(n_x, n_h, n_y)\n",
        " \n",
        "  for i in range(0, num_iterations):\n",
        "    A2, cache = forward_prop(X, parameters)\n",
        "    cost = compute_cost(A2, Y)\n",
        "    grads = back_prop(cache, parameters, X, Y)\n",
        "    parameters = update_parameters(parameters, grads)\n",
        " \n",
        "    if print_cost and i%1000 == 0:\n",
        "      print('Cost after iteration %i: %f' %(i, cost))\n",
        " \n",
        "  return parameters\n",
        " \n",
        " \n",
        "def predict(parameters, X):\n",
        "  A2, cache = forward_prop(X, parameters)\n",
        "  yhat = A2\n",
        "  yhat = np.squeeze(yhat)\n",
        "  prediction = 0\n",
        "  if yhat > 0.5:\n",
        "    prediction = 1\n",
        "  \n",
        "  return prediction"
      ],
      "execution_count": 3,
      "outputs": []
    },
    {
      "cell_type": "code",
      "metadata": {
        "colab": {
          "base_uri": "https://localhost:8080/"
        },
        "id": "YSX9hyyH9jC5",
        "outputId": "76d5bb01-98b6-462c-9c36-ef1a72127dcb"
      },
      "source": [
        "X = np.array([[0, 0, 1, 1], [0, 1, 0, 1]])\n",
        "Y = np.array([[0, 1, 1, 0]])\n",
        "\n",
        "trained_parameters = nn_model(X, Y)\n",
        "\n",
        "print(\"W1 = \" + str(trained_parameters[\"W1\"]))\n",
        "print(\"b1 = \" + str(trained_parameters[\"b1\"]))\n",
        "print(\"W2 = \" + str(trained_parameters[\"W2\"]))\n",
        "print(\"b2 = \" + str(trained_parameters[\"b2\"]))"
      ],
      "execution_count": 17,
      "outputs": [
        {
          "output_type": "stream",
          "text": [
            "Cost after iteration 0: 0.693147\n",
            "Cost after iteration 1000: 0.693147\n",
            "Cost after iteration 2000: 0.693147\n",
            "Cost after iteration 3000: 0.693147\n",
            "Cost after iteration 4000: 0.693147\n",
            "Cost after iteration 5000: 0.693147\n",
            "Cost after iteration 6000: 0.693147\n",
            "Cost after iteration 7000: 0.693147\n",
            "Cost after iteration 8000: 0.693147\n",
            "Cost after iteration 9000: 0.693147\n",
            "W1 = [[ 0.01800884  0.00472305]\n",
            " [-0.00106225 -0.01842699]\n",
            " [-0.00302617 -0.00347474]\n",
            " [-0.00045634 -0.00661726]]\n",
            "b1 = [[ 1.28038051e-04]\n",
            " [-5.31468643e-06]\n",
            " [-3.99994857e-04]\n",
            " [ 1.05941642e-04]]\n",
            "W2 = [[ 0.00143819 -0.00386175 -0.0129717   0.00915141]]\n",
            "b2 = [[-7.01216554e-05]]\n"
          ],
          "name": "stdout"
        }
      ]
    },
    {
      "cell_type": "code",
      "metadata": {
        "colab": {
          "base_uri": "https://localhost:8080/"
        },
        "id": "AO6m8nXhZKrV",
        "outputId": "c392854d-5477-4e87-e98e-a35732140872"
      },
      "source": [
        "prediction = predict(trained_parameters, np.array([[0], [1]]))\n",
        "print(prediction)"
      ],
      "execution_count": 19,
      "outputs": [
        {
          "output_type": "stream",
          "text": [
            "0\n"
          ],
          "name": "stdout"
        }
      ]
    }
  ]
}