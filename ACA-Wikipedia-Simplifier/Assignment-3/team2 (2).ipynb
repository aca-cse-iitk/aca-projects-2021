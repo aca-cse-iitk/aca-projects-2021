{
  "nbformat": 4,
  "nbformat_minor": 0,
  "metadata": {
    "colab": {
      "name": "team2.ipynb",
      "provenance": [],
      "collapsed_sections": []
    },
    "kernelspec": {
      "name": "python3",
      "display_name": "Python 3"
    },
    "language_info": {
      "name": "python"
    }
  },
  "cells": [
    {
      "cell_type": "code",
      "metadata": {
        "id": "oKxo5CjSsvPH"
      },
      "source": [
        "import numpy as np\n",
        " \n",
        " \n",
        "## MODEL\n",
        " \n",
        "x=np.array([[1,1], [1,0], [0,1], [0,0]])\n",
        "y=np.array([1,0,0,0])\n",
        "y=y.reshape(4,1)\n",
        "c=0\n",
        " \n",
        "##TRAIN\n",
        "for i in range(1000):\n",
        "  out= x[:, 0]+ x[:,1]+c\n",
        "  a=1/(1+np.exp(-out))\n",
        "  c=c- ((abs(a-y)>0.51)*(a-y)).sum()/10\n",
        " \n",
        "## OUT\n",
        "a1,a2=input(\"Enter Nums :)\\n\").split()\n",
        "a1=int(a1)\n",
        "a2=int(a2)\n",
        "print(np.exp(-(a1+a2+c))<1)"
      ],
      "execution_count": null,
      "outputs": []
    },
    {
      "cell_type": "code",
      "metadata": {
        "id": "lUo_P4102kqn"
      },
      "source": [
        ""
      ],
      "execution_count": null,
      "outputs": []
    }
  ]
}